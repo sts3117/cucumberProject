{
  "nbformat": 4,
  "nbformat_minor": 0,
  "metadata": {
    "colab": {
      "provenance": [],
      "authorship_tag": "ABX9TyOvjw7MrXPOemGDcwHm5k8C",
      "include_colab_link": true
    },
    "kernelspec": {
      "name": "python3",
      "display_name": "Python 3"
    },
    "language_info": {
      "name": "python"
    }
  },
  "cells": [
    {
      "cell_type": "markdown",
      "metadata": {
        "id": "view-in-github",
        "colab_type": "text"
      },
      "source": [
        "<a href=\"https://colab.research.google.com/github/sts3117/cucumberProject/blob/main/0213_ourmodel_me_optimizer.ipynb\" target=\"_parent\"><img src=\"https://colab.research.google.com/assets/colab-badge.svg\" alt=\"Open In Colab\"/></a>"
      ]
    },
    {
      "cell_type": "code",
      "source": [
        "from google.colab import drive\n",
        "drive.mount('/content/drive')\n",
        "import PIL  # python 의 이미지 전처리 라이브러리\n",
        "import glob # 대용량, 대규모 파일을 다룰때 사용\n",
        "import os # os, path 관련 조작, 변경 , 파일 삭제 등\n",
        "import numpy as np\n",
        "from sklearn.model_selection import train_test_split\n",
        "import tensorflow as tf\n",
        "from tensorflow.keras import layers, models"
      ],
      "metadata": {
        "colab": {
          "base_uri": "https://localhost:8080/"
        },
        "id": "xU4M7s-vEDZR",
        "outputId": "42af7655-4f9c-4bfe-886d-d3bca76dceea"
      },
      "execution_count": 1,
      "outputs": [
        {
          "output_type": "stream",
          "name": "stdout",
          "text": [
            "Mounted at /content/drive\n"
          ]
        }
      ]
    },
    {
      "cell_type": "code",
      "execution_count": 2,
      "metadata": {
        "id": "kNnpEuJOXhG5"
      },
      "outputs": [],
      "source": [
        "# /content/drive/MyDrive/dataset.zip\n",
        "!mkdir dataset\n",
        "!mkdir dataset01\n"
      ]
    },
    {
      "cell_type": "code",
      "source": [
        "!unzip /content/drive/MyDrive/dataset.zip -d dataset"
      ],
      "metadata": {
        "id": "6ioAZROaZjba",
        "colab": {
          "base_uri": "https://localhost:8080/"
        },
        "outputId": "4437bdba-dd3b-4e39-c3d3-bf34bd35e870"
      },
      "execution_count": null,
      "outputs": [
        {
          "output_type": "stream",
          "name": "stdout",
          "text": [
            "Archive:  /content/drive/MyDrive/dataset.zip\n",
            "replace dataset/cucumber/cucumber_fifth-001.jpeg? [y]es, [n]o, [A]ll, [N]one, [r]ename: unzip:  cannot find or open /content/drive/MyDrive/dataset01.zip, /content/drive/MyDrive/dataset01.zip.zip or /content/drive/MyDrive/dataset01.zip.ZIP.\n"
          ]
        }
      ]
    },
    {
      "cell_type": "code",
      "source": [
        "!unzip /content/drive/MyDrive/dataset01.zip -d dataset01"
      ],
      "metadata": {
        "id": "44BEBy69eYDE"
      },
      "execution_count": null,
      "outputs": []
    },
    {
      "cell_type": "code",
      "source": [
        "dataset_folder_path = '/content/dataset'\n",
        "category_cnt = os.listdir(dataset_folder_path)\n",
        "print(os.listdir(dataset_folder_path))"
      ],
      "metadata": {
        "colab": {
          "base_uri": "https://localhost:8080/"
        },
        "id": "8tkQcmahaCPz",
        "outputId": "5f4f13c7-eb1d-4e14-fcee-c2033ecb3b94"
      },
      "execution_count": null,
      "outputs": [
        {
          "output_type": "stream",
          "name": "stdout",
          "text": [
            "[]\n"
          ]
        }
      ]
    },
    {
      "cell_type": "code",
      "source": [
        "dataset_folder_path = '/content/dataset01'\n",
        "category_cnt = os.listdir(dataset_folder_path)\n",
        "print(os.listdir(dataset_folder_path))"
      ],
      "metadata": {
        "colab": {
          "base_uri": "https://localhost:8080/"
        },
        "id": "7yRnpt6XerUu",
        "outputId": "3a8f77b7-d431-41ef-937a-37e8242c8564"
      },
      "execution_count": 4,
      "outputs": [
        {
          "output_type": "stream",
          "name": "stdout",
          "text": [
            "['cucumber01', 'zucchini01']\n"
          ]
        }
      ]
    },
    {
      "cell_type": "code",
      "source": [
        "# glob.glob(dataset_folder_path+'/*/*')\n",
        "# 파일의 경로+/* 을 입력하면 해당 폴더 하위 경로 상에 있는 모든 파일을 리스트로 리턴\n",
        "# ex) dataset_folder_path+'/*/*' -> 하위 폴더의 하위 데이터 전체 리턴\n",
        "\n",
        "x = []\n",
        "y = []\n",
        "\n",
        "for label, folder in enumerate(os.listdir(dataset_folder_path)):\n",
        "    # print(dataset_folder_path +'/'+ folder) # 좋지 코드가 아님\n",
        "    # os.path.join(dataset_folder_path, folder) # 유지 보수 좋은 코드\n",
        "    folder_full_path = os.path.join(dataset_folder_path, folder)\n",
        "    all_files = glob.glob(folder_full_path + '/*.jpeg')\n",
        "    all_files_jpg = glob.glob(folder_full_path + '/*.jpg')\n",
        "    all_files_png = glob.glob(folder_full_path + '/*.png')\n",
        "    all_files.extend(all_files_jpg)\n",
        "    all_files.extend(all_files_png)\n",
        "\n",
        "    for idx, file_full_path in enumerate(all_files):\n",
        "        image = PIL.Image.open(file_full_path)\n",
        "        image = image.resize((64, 64))\n",
        "        image = image.convert('RGB')\n",
        "        data = np.asarray(image)\n",
        "        x.append(data)\n",
        "        y.append(label)\n",
        "        if idx % 30 == 0:\n",
        "            print(idx, '/', len(all_files))"
      ],
      "metadata": {
        "id": "1FOaCpI8fORd",
        "colab": {
          "base_uri": "https://localhost:8080/"
        },
        "outputId": "0dbf8b0b-c63e-4687-ddc5-324ae6a5f1a1"
      },
      "execution_count": 5,
      "outputs": [
        {
          "output_type": "stream",
          "name": "stdout",
          "text": [
            "0 / 588\n",
            "30 / 588\n",
            "60 / 588\n",
            "90 / 588\n",
            "120 / 588\n",
            "150 / 588\n",
            "180 / 588\n",
            "210 / 588\n",
            "240 / 588\n",
            "270 / 588\n",
            "300 / 588\n",
            "330 / 588\n",
            "360 / 588\n",
            "390 / 588\n",
            "420 / 588\n",
            "450 / 588\n",
            "480 / 588\n",
            "510 / 588\n",
            "540 / 588\n",
            "570 / 588\n",
            "0 / 284\n",
            "30 / 284\n",
            "60 / 284\n",
            "90 / 284\n",
            "120 / 284\n",
            "150 / 284\n",
            "180 / 284\n",
            "210 / 284\n",
            "240 / 284\n",
            "270 / 284\n"
          ]
        }
      ]
    },
    {
      "cell_type": "code",
      "source": [
        "x = np.array(x)\n",
        "y = np.array(y)\n",
        "print('카테고리 갯수', np.bincount(y))\n",
        "print('전처리 확인', x.shape)"
      ],
      "metadata": {
        "colab": {
          "base_uri": "https://localhost:8080/"
        },
        "id": "NM7txSkqmo3u",
        "outputId": "ecdf7320-c630-4b85-c937-e940dbb87ef9"
      },
      "execution_count": 6,
      "outputs": [
        {
          "output_type": "stream",
          "name": "stdout",
          "text": [
            "카테고리 갯수 [588 284]\n",
            "전처리 확인 (872, 64, 64, 3)\n"
          ]
        }
      ]
    },
    {
      "cell_type": "code",
      "source": [
        "\n",
        "x_train, x_test, y_train, y_test = train_test_split(x, y, test_size=0.2)"
      ],
      "metadata": {
        "id": "aFuFUsxbnLrE"
      },
      "execution_count": 7,
      "outputs": []
    },
    {
      "cell_type": "code",
      "source": [
        "# # 개발 팁, 전처리 시간이 너무 오래 걸린다면(데이터 늘어 나서)\n",
        "# xy = (x_train, x_test, y_train, y_test)\n",
        "# np.save('/content/drive/MyDrive/preprocessing_data.npy', xy)\n",
        "# x_train, x_test, y_train, y_test = np.load('/content/drive/MyDrive/preprocessing_data.npy')"
      ],
      "metadata": {
        "id": "xxwYDCTbnpRF"
      },
      "execution_count": null,
      "outputs": []
    },
    {
      "cell_type": "code",
      "source": [
        "x_train = x_train / 255.\n",
        "x_test = x_test / 255."
      ],
      "metadata": {
        "id": "RzyfWL6Moow9"
      },
      "execution_count": 8,
      "outputs": []
    },
    {
      "cell_type": "code",
      "source": [
        "# 구글넷 실습(오전에 진행한)\n",
        "# 레즈넷 실습(다 짜여진 코드) -> fine tuning"
      ],
      "metadata": {
        "id": "sgnq7uTepZtk"
      },
      "execution_count": null,
      "outputs": []
    },
    {
      "cell_type": "code",
      "source": [
        "\n",
        "# 개선의 여지 해상도 수정 ( 전처리 도 수정 해야함)\n",
        "input_layer = layers.Input(shape = (64,64,3), name='start_layer')\n",
        "\n",
        "# 개선 의 여지 conv2d 수정 (성능이 매우 잘 나온다면  - 모델 다이어트\n",
        "# 성능이 안나온다면 channel 수, 레이어 추가\n",
        "tower_1 = layers.Conv2D(64, kernel_size = (1,1) , padding='same' , activation= 'relu')(input_layer)\n",
        "\n",
        "tower_2 = layers.Conv2D(64, kernel_size = (1,1) , padding='same' , activation= 'relu')(input_layer)\n",
        "tower_2 = layers.Conv2D(64, kernel_size = (3,3) , padding='same' , activation= 'relu')(tower_2)\n",
        "\n",
        "tower_3 = layers.Conv2D(64, kernel_size = (1,1) , padding='same' , activation= 'relu')(input_layer)\n",
        "tower_3 = layers.Conv2D(64, kernel_size = (5,5) , padding='same' , activation= 'relu')(tower_3)\n",
        "\n",
        "tower_4 = layers.MaxPool2D(pool_size=(3,3), strides=(1,1) , padding='same')(input_layer)\n",
        "tower_4 = layers.Conv2D(64, kernel_size=(1,1) , padding='same' , activation='relu')(tower_4)\n",
        "\n",
        "concat_layer = layers.concatenate([tower_1, tower_2,tower_3,tower_4], axis=3)\n",
        "\n",
        "tower_2_1 = layers.Conv2D(120, kernel_size = (1,1) , padding='same' , activation= 'relu')(concat_layer)\n",
        "\n",
        "tower_2_2 = layers.Conv2D(120, kernel_size = (1,1) , padding='same' , activation= 'relu')(concat_layer)\n",
        "tower_2_2 = layers.Conv2D(120, kernel_size = (3,3) , padding='same' , activation= 'relu')(tower_2_2)\n",
        "\n",
        "tower_2_3 = layers.Conv2D(120, kernel_size = (1,1) , padding='same' , activation= 'relu')(concat_layer)\n",
        "tower_2_3 = layers.Conv2D(120, kernel_size = (5,5) , padding='same' , activation= 'relu')(tower_2_3)\n",
        "\n",
        "tower_2_4 = layers.MaxPool2D(pool_size=(3,3), strides=(1,1) , padding='same')(concat_layer)\n",
        "tower_2_4 = layers.Conv2D(120, kernel_size=(1,1) , padding='same' , activation='relu')(tower_2_4)\n",
        "\n",
        "final_concat_layer = layers.concatenate([tower_2_1, tower_2_2,tower_2_3,tower_2_4], axis=3)\n",
        "average_pooling_layer = layers.AveragePooling2D(pool_size=(16,16),strides=(16,16))(final_concat_layer)\n",
        "flat_layer = layers.Flatten()(average_pooling_layer)\n",
        "# 개선 의 여지 -  Dense 층 추가\n",
        "output_layer = layers.Dense(16, activation = 'relu')(flat_layer)\n",
        "output_layer = layers.Dense(1, activation = 'sigmoid')(output_layer)\n",
        "\n",
        "google_net_model = models.Model(inputs = input_layer, outputs = output_layer)\n",
        "google_net_model.summary()"
      ],
      "metadata": {
        "colab": {
          "base_uri": "https://localhost:8080/"
        },
        "id": "vOBz1Ghq9ViT",
        "outputId": "a5f46d37-b561-49a1-b098-908db8fb6f3a"
      },
      "execution_count": 3,
      "outputs": [
        {
          "output_type": "stream",
          "name": "stdout",
          "text": [
            "Model: \"model\"\n",
            "__________________________________________________________________________________________________\n",
            " Layer (type)                Output Shape                 Param #   Connected to                  \n",
            "==================================================================================================\n",
            " start_layer (InputLayer)    [(None, 64, 64, 3)]          0         []                            \n",
            "                                                                                                  \n",
            " conv2d_1 (Conv2D)           (None, 64, 64, 64)           256       ['start_layer[0][0]']         \n",
            "                                                                                                  \n",
            " conv2d_3 (Conv2D)           (None, 64, 64, 64)           256       ['start_layer[0][0]']         \n",
            "                                                                                                  \n",
            " max_pooling2d (MaxPooling2  (None, 64, 64, 3)            0         ['start_layer[0][0]']         \n",
            " D)                                                                                               \n",
            "                                                                                                  \n",
            " conv2d (Conv2D)             (None, 64, 64, 64)           256       ['start_layer[0][0]']         \n",
            "                                                                                                  \n",
            " conv2d_2 (Conv2D)           (None, 64, 64, 64)           36928     ['conv2d_1[0][0]']            \n",
            "                                                                                                  \n",
            " conv2d_4 (Conv2D)           (None, 64, 64, 64)           102464    ['conv2d_3[0][0]']            \n",
            "                                                                                                  \n",
            " conv2d_5 (Conv2D)           (None, 64, 64, 64)           256       ['max_pooling2d[0][0]']       \n",
            "                                                                                                  \n",
            " concatenate (Concatenate)   (None, 64, 64, 256)          0         ['conv2d[0][0]',              \n",
            "                                                                     'conv2d_2[0][0]',            \n",
            "                                                                     'conv2d_4[0][0]',            \n",
            "                                                                     'conv2d_5[0][0]']            \n",
            "                                                                                                  \n",
            " conv2d_7 (Conv2D)           (None, 64, 64, 120)          30840     ['concatenate[0][0]']         \n",
            "                                                                                                  \n",
            " conv2d_9 (Conv2D)           (None, 64, 64, 120)          30840     ['concatenate[0][0]']         \n",
            "                                                                                                  \n",
            " max_pooling2d_1 (MaxPoolin  (None, 64, 64, 256)          0         ['concatenate[0][0]']         \n",
            " g2D)                                                                                             \n",
            "                                                                                                  \n",
            " conv2d_6 (Conv2D)           (None, 64, 64, 120)          30840     ['concatenate[0][0]']         \n",
            "                                                                                                  \n",
            " conv2d_8 (Conv2D)           (None, 64, 64, 120)          129720    ['conv2d_7[0][0]']            \n",
            "                                                                                                  \n",
            " conv2d_10 (Conv2D)          (None, 64, 64, 120)          360120    ['conv2d_9[0][0]']            \n",
            "                                                                                                  \n",
            " conv2d_11 (Conv2D)          (None, 64, 64, 120)          30840     ['max_pooling2d_1[0][0]']     \n",
            "                                                                                                  \n",
            " concatenate_1 (Concatenate  (None, 64, 64, 480)          0         ['conv2d_6[0][0]',            \n",
            " )                                                                   'conv2d_8[0][0]',            \n",
            "                                                                     'conv2d_10[0][0]',           \n",
            "                                                                     'conv2d_11[0][0]']           \n",
            "                                                                                                  \n",
            " average_pooling2d (Average  (None, 4, 4, 480)            0         ['concatenate_1[0][0]']       \n",
            " Pooling2D)                                                                                       \n",
            "                                                                                                  \n",
            " flatten (Flatten)           (None, 7680)                 0         ['average_pooling2d[0][0]']   \n",
            "                                                                                                  \n",
            " dense (Dense)               (None, 16)                   122896    ['flatten[0][0]']             \n",
            "                                                                                                  \n",
            " dense_1 (Dense)             (None, 1)                    17        ['dense[0][0]']               \n",
            "                                                                                                  \n",
            "==================================================================================================\n",
            "Total params: 876529 (3.34 MB)\n",
            "Trainable params: 876529 (3.34 MB)\n",
            "Non-trainable params: 0 (0.00 Byte)\n",
            "__________________________________________________________________________________________________\n"
          ]
        }
      ]
    },
    {
      "cell_type": "code",
      "source": [
        "# 개선 여지 hyper parameter tuning\n",
        "# ex) tf.keras.optimizers.Adam()\n",
        "google_net_model.compile(loss='binary_crossentropy',\n",
        "                         optimizer='adam', metrics=['accuracy'])"
      ],
      "metadata": {
        "id": "4rvtHRE_-usC"
      },
      "execution_count": 10,
      "outputs": []
    },
    {
      "cell_type": "code",
      "source": [
        "check_point_path = '/content/drive/MyDrive/ourmodel_checkpoint'\n",
        "mc = tf.keras.callbacks.ModelCheckpoint(check_point_path, monitor='val_loss', save_best_only=True)\n",
        "es = tf.keras.callbacks.EarlyStopping(monitor='val_loss', patience=4)"
      ],
      "metadata": {
        "id": "j9DFtspr_qjv"
      },
      "execution_count": 11,
      "outputs": []
    },
    {
      "cell_type": "code",
      "source": [
        "google_net_model.fit(x_train, y_train, batch_size=32,\n",
        "                     epochs=20,\n",
        "                     callbacks=[mc, es],\n",
        "\n",
        "                     validation_data=(x_test, y_test))"
      ],
      "metadata": {
        "colab": {
          "base_uri": "https://localhost:8080/"
        },
        "id": "4Sag3lLI-3QM",
        "outputId": "2ce72b49-96fd-48aa-c6d7-84e1379dac3e"
      },
      "execution_count": 12,
      "outputs": [
        {
          "output_type": "stream",
          "name": "stdout",
          "text": [
            "Epoch 1/20\n",
            "22/22 [==============================] - 27s 665ms/step - loss: 0.6579 - accuracy: 0.6628 - val_loss: 0.6099 - val_accuracy: 0.7143\n",
            "Epoch 2/20\n",
            "22/22 [==============================] - 3s 128ms/step - loss: 0.6495 - accuracy: 0.6643 - val_loss: 0.6148 - val_accuracy: 0.7143\n",
            "Epoch 3/20\n",
            "22/22 [==============================] - 5s 224ms/step - loss: 0.6365 - accuracy: 0.6643 - val_loss: 0.6026 - val_accuracy: 0.7143\n",
            "Epoch 4/20\n",
            "22/22 [==============================] - 5s 243ms/step - loss: 0.6205 - accuracy: 0.6743 - val_loss: 0.5907 - val_accuracy: 0.7143\n",
            "Epoch 5/20\n",
            "22/22 [==============================] - 3s 129ms/step - loss: 0.6154 - accuracy: 0.6815 - val_loss: 0.5936 - val_accuracy: 0.6971\n",
            "Epoch 6/20\n",
            "22/22 [==============================] - 3s 129ms/step - loss: 0.6055 - accuracy: 0.6829 - val_loss: 0.6309 - val_accuracy: 0.7143\n",
            "Epoch 7/20\n",
            "22/22 [==============================] - 3s 130ms/step - loss: 0.6150 - accuracy: 0.6872 - val_loss: 0.6028 - val_accuracy: 0.7086\n",
            "Epoch 8/20\n",
            "22/22 [==============================] - 3s 126ms/step - loss: 0.6026 - accuracy: 0.6901 - val_loss: 0.5986 - val_accuracy: 0.7086\n"
          ]
        },
        {
          "output_type": "execute_result",
          "data": {
            "text/plain": [
              "<keras.src.callbacks.History at 0x7a336143e770>"
            ]
          },
          "metadata": {},
          "execution_count": 12
        }
      ]
    },
    {
      "cell_type": "code",
      "source": [
        "## our model inference code\n",
        "# inference만 진행 할 시, 가장 위 import library 실행 -> 모델 빌드 하는 부분 실행\n",
        "google_net_model.load_weights('/content/drive/MyDrive/ourmodel_checkpoint')"
      ],
      "metadata": {
        "colab": {
          "base_uri": "https://localhost:8080/"
        },
        "id": "kxPK2M5nEmT-",
        "outputId": "d355e0d0-2206-4674-d804-89c0118ab110"
      },
      "execution_count": 14,
      "outputs": [
        {
          "output_type": "execute_result",
          "data": {
            "text/plain": [
              "<tensorflow.python.checkpoint.checkpoint.CheckpointLoadStatus at 0x7f830bf1f940>"
            ]
          },
          "metadata": {},
          "execution_count": 14
        }
      ]
    },
    {
      "cell_type": "code",
      "source": [
        "from google.colab import files\n",
        "f = files.upload()"
      ],
      "metadata": {
        "colab": {
          "base_uri": "https://localhost:8080/",
          "height": 77
        },
        "id": "ZetqhU62Ju1w",
        "outputId": "470e40ee-4428-4508-cc29-8732699b8afe"
      },
      "execution_count": 15,
      "outputs": [
        {
          "output_type": "display_data",
          "data": {
            "text/plain": [
              "<IPython.core.display.HTML object>"
            ],
            "text/html": [
              "\n",
              "     <input type=\"file\" id=\"files-c762c464-2136-446c-b6fe-bb93836c662a\" name=\"files[]\" multiple disabled\n",
              "        style=\"border:none\" />\n",
              "     <output id=\"result-c762c464-2136-446c-b6fe-bb93836c662a\">\n",
              "      Upload widget is only available when the cell has been executed in the\n",
              "      current browser session. Please rerun this cell to enable.\n",
              "      </output>\n",
              "      <script>// Copyright 2017 Google LLC\n",
              "//\n",
              "// Licensed under the Apache License, Version 2.0 (the \"License\");\n",
              "// you may not use this file except in compliance with the License.\n",
              "// You may obtain a copy of the License at\n",
              "//\n",
              "//      http://www.apache.org/licenses/LICENSE-2.0\n",
              "//\n",
              "// Unless required by applicable law or agreed to in writing, software\n",
              "// distributed under the License is distributed on an \"AS IS\" BASIS,\n",
              "// WITHOUT WARRANTIES OR CONDITIONS OF ANY KIND, either express or implied.\n",
              "// See the License for the specific language governing permissions and\n",
              "// limitations under the License.\n",
              "\n",
              "/**\n",
              " * @fileoverview Helpers for google.colab Python module.\n",
              " */\n",
              "(function(scope) {\n",
              "function span(text, styleAttributes = {}) {\n",
              "  const element = document.createElement('span');\n",
              "  element.textContent = text;\n",
              "  for (const key of Object.keys(styleAttributes)) {\n",
              "    element.style[key] = styleAttributes[key];\n",
              "  }\n",
              "  return element;\n",
              "}\n",
              "\n",
              "// Max number of bytes which will be uploaded at a time.\n",
              "const MAX_PAYLOAD_SIZE = 100 * 1024;\n",
              "\n",
              "function _uploadFiles(inputId, outputId) {\n",
              "  const steps = uploadFilesStep(inputId, outputId);\n",
              "  const outputElement = document.getElementById(outputId);\n",
              "  // Cache steps on the outputElement to make it available for the next call\n",
              "  // to uploadFilesContinue from Python.\n",
              "  outputElement.steps = steps;\n",
              "\n",
              "  return _uploadFilesContinue(outputId);\n",
              "}\n",
              "\n",
              "// This is roughly an async generator (not supported in the browser yet),\n",
              "// where there are multiple asynchronous steps and the Python side is going\n",
              "// to poll for completion of each step.\n",
              "// This uses a Promise to block the python side on completion of each step,\n",
              "// then passes the result of the previous step as the input to the next step.\n",
              "function _uploadFilesContinue(outputId) {\n",
              "  const outputElement = document.getElementById(outputId);\n",
              "  const steps = outputElement.steps;\n",
              "\n",
              "  const next = steps.next(outputElement.lastPromiseValue);\n",
              "  return Promise.resolve(next.value.promise).then((value) => {\n",
              "    // Cache the last promise value to make it available to the next\n",
              "    // step of the generator.\n",
              "    outputElement.lastPromiseValue = value;\n",
              "    return next.value.response;\n",
              "  });\n",
              "}\n",
              "\n",
              "/**\n",
              " * Generator function which is called between each async step of the upload\n",
              " * process.\n",
              " * @param {string} inputId Element ID of the input file picker element.\n",
              " * @param {string} outputId Element ID of the output display.\n",
              " * @return {!Iterable<!Object>} Iterable of next steps.\n",
              " */\n",
              "function* uploadFilesStep(inputId, outputId) {\n",
              "  const inputElement = document.getElementById(inputId);\n",
              "  inputElement.disabled = false;\n",
              "\n",
              "  const outputElement = document.getElementById(outputId);\n",
              "  outputElement.innerHTML = '';\n",
              "\n",
              "  const pickedPromise = new Promise((resolve) => {\n",
              "    inputElement.addEventListener('change', (e) => {\n",
              "      resolve(e.target.files);\n",
              "    });\n",
              "  });\n",
              "\n",
              "  const cancel = document.createElement('button');\n",
              "  inputElement.parentElement.appendChild(cancel);\n",
              "  cancel.textContent = 'Cancel upload';\n",
              "  const cancelPromise = new Promise((resolve) => {\n",
              "    cancel.onclick = () => {\n",
              "      resolve(null);\n",
              "    };\n",
              "  });\n",
              "\n",
              "  // Wait for the user to pick the files.\n",
              "  const files = yield {\n",
              "    promise: Promise.race([pickedPromise, cancelPromise]),\n",
              "    response: {\n",
              "      action: 'starting',\n",
              "    }\n",
              "  };\n",
              "\n",
              "  cancel.remove();\n",
              "\n",
              "  // Disable the input element since further picks are not allowed.\n",
              "  inputElement.disabled = true;\n",
              "\n",
              "  if (!files) {\n",
              "    return {\n",
              "      response: {\n",
              "        action: 'complete',\n",
              "      }\n",
              "    };\n",
              "  }\n",
              "\n",
              "  for (const file of files) {\n",
              "    const li = document.createElement('li');\n",
              "    li.append(span(file.name, {fontWeight: 'bold'}));\n",
              "    li.append(span(\n",
              "        `(${file.type || 'n/a'}) - ${file.size} bytes, ` +\n",
              "        `last modified: ${\n",
              "            file.lastModifiedDate ? file.lastModifiedDate.toLocaleDateString() :\n",
              "                                    'n/a'} - `));\n",
              "    const percent = span('0% done');\n",
              "    li.appendChild(percent);\n",
              "\n",
              "    outputElement.appendChild(li);\n",
              "\n",
              "    const fileDataPromise = new Promise((resolve) => {\n",
              "      const reader = new FileReader();\n",
              "      reader.onload = (e) => {\n",
              "        resolve(e.target.result);\n",
              "      };\n",
              "      reader.readAsArrayBuffer(file);\n",
              "    });\n",
              "    // Wait for the data to be ready.\n",
              "    let fileData = yield {\n",
              "      promise: fileDataPromise,\n",
              "      response: {\n",
              "        action: 'continue',\n",
              "      }\n",
              "    };\n",
              "\n",
              "    // Use a chunked sending to avoid message size limits. See b/62115660.\n",
              "    let position = 0;\n",
              "    do {\n",
              "      const length = Math.min(fileData.byteLength - position, MAX_PAYLOAD_SIZE);\n",
              "      const chunk = new Uint8Array(fileData, position, length);\n",
              "      position += length;\n",
              "\n",
              "      const base64 = btoa(String.fromCharCode.apply(null, chunk));\n",
              "      yield {\n",
              "        response: {\n",
              "          action: 'append',\n",
              "          file: file.name,\n",
              "          data: base64,\n",
              "        },\n",
              "      };\n",
              "\n",
              "      let percentDone = fileData.byteLength === 0 ?\n",
              "          100 :\n",
              "          Math.round((position / fileData.byteLength) * 100);\n",
              "      percent.textContent = `${percentDone}% done`;\n",
              "\n",
              "    } while (position < fileData.byteLength);\n",
              "  }\n",
              "\n",
              "  // All done.\n",
              "  yield {\n",
              "    response: {\n",
              "      action: 'complete',\n",
              "    }\n",
              "  };\n",
              "}\n",
              "\n",
              "scope.google = scope.google || {};\n",
              "scope.google.colab = scope.google.colab || {};\n",
              "scope.google.colab._files = {\n",
              "  _uploadFiles,\n",
              "  _uploadFilesContinue,\n",
              "};\n",
              "})(self);\n",
              "</script> "
            ]
          },
          "metadata": {}
        },
        {
          "output_type": "stream",
          "name": "stdout",
          "text": [
            "Saving cucumber01-367.jpeg to cucumber01-367.jpeg\n"
          ]
        }
      ]
    },
    {
      "cell_type": "code",
      "source": [
        "file_name = list(f.keys())[0]\n",
        "test_img = PIL.Image.open(file_name)\n",
        "test_img = test_img.resize((64, 64))\n",
        "test_img = test_img.convert('RGB')\n",
        "data = np.asarray(test_img)\n",
        "test_image_tensor = np.array([data])\n",
        "test_image_tensor = test_image_tensor / 255.\n",
        "test_image_tensor.shape\n"
      ],
      "metadata": {
        "colab": {
          "base_uri": "https://localhost:8080/"
        },
        "id": "5Lm148pSKHqQ",
        "outputId": "b916c809-a827-41b1-bb96-316d3fd02e82"
      },
      "execution_count": 16,
      "outputs": [
        {
          "output_type": "execute_result",
          "data": {
            "text/plain": [
              "(1, 64, 64, 3)"
            ]
          },
          "metadata": {},
          "execution_count": 16
        }
      ]
    },
    {
      "cell_type": "code",
      "source": [
        "result = google_net_model.predict(test_image_tensor)\n",
        "result[0][0]\n",
        "if result[0][0] > 0.5:\n",
        "    print(f'{result[0][0] * 100} % 확률로 cucumber 로 판단이 됩니다.')\n",
        "else:\n",
        "    print(f'{1 - result[0][0] * 100} % 확률로 zucchini 로 판단이 됩니다.')"
      ],
      "metadata": {
        "colab": {
          "base_uri": "https://localhost:8080/"
        },
        "id": "0zBKkiK2NfVC",
        "outputId": "7d3a28ab-8089-4726-c1e2-8aa3791cd110"
      },
      "execution_count": 17,
      "outputs": [
        {
          "output_type": "stream",
          "name": "stdout",
          "text": [
            "1/1 [==============================] - 0s 131ms/step\n",
            "-24.6646990776062 % 확률로 zucchini 로 판단이 됩니다.\n"
          ]
        }
      ]
    },
    {
      "cell_type": "markdown",
      "source": [
        "성능 개서 ( 모델 수정, 데이터, 하이퍼메터 튜닝)\n",
        "\n",
        "목표 80% 현재 성능 70%\n",
        "1. 데이터\n",
        "2. 모델\n",
        "3. 하이퍼 파라메터 수정 (우선 순위 최하) : 성능 수치 79.7% 일때"
      ],
      "metadata": {
        "id": "FJOxT91qRAbj"
      }
    }
  ]
}